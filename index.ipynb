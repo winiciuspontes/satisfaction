{
 "cells": [
  {
   "cell_type": "code",
   "execution_count": 270,
   "metadata": {},
   "outputs": [],
   "source": [
    "import pandas as pd \n",
    "import numpy as np\n",
    "import seaborn as sns \n",
    "from sklearn.model_selection import train_test_split\n",
    "from sklearn.naive_bayes import GaussianNB\n",
    "from sklearn.preprocessing import LabelEncoder\n",
    "from sklearn.metrics import confusion_matrix, accuracy_score\n",
    "from yellowbrick.classifier import ConfusionMatrix\n",
    "from sklearn.tree import DecisionTreeClassifier, export_graphviz\n",
    "import matplotlib.pyplot as plt\n",
    "import plotly.express as px\n",
    "from sklearn.preprocessing import LabelEncoder\n",
    "from category_encoders.one_hot import OneHotEncoder\n",
    "# from sklearn.preprocessing import OneHotEncoder\n",
    "from sklearn.preprocessing import StandardScaler\n",
    "from sklearn.compose import ColumnTransformer\n",
    "from sklearn.ensemble import RandomForestClassifier\n",
    "from sklearn.neighbors import KNeighborsClassifier \n",
    "from sklearn.linear_model import LogisticRegression\n",
    "from sklearn.svm import SVC\n",
    "from sklearn.neural_network import MLPClassifier\n",
    "from sklearn.model_selection import GridSearchCV\n",
    "from sklearn.model_selection import cross_val_score\n",
    "from sklearn.model_selection import KFold\n",
    "from scipy.stats import norm\n",
    "from sklearn.pipeline import Pipeline\n",
    "from pandas_profiling import ProfileReport\n",
    "from xgboost import XGBClassifier \n",
    "from sklearn.metrics import classification_report"
   ]
  },
  {
   "cell_type": "code",
   "execution_count": 247,
   "metadata": {},
   "outputs": [
    {
     "name": "stdout",
     "output_type": "stream",
     "text": [
      "(103904, 24)\n"
     ]
    }
   ],
   "source": [
    "file = 'train.csv'\n",
    "data = pd.read_csv(file, index_col=0)\n",
    "print(data.shape)\n",
    "data.head()\n",
    "data.drop(['id'], axis=1, inplace=True)"
   ]
  },
  {
   "cell_type": "code",
   "execution_count": 248,
   "metadata": {},
   "outputs": [
    {
     "name": "stdout",
     "output_type": "stream",
     "text": [
      "porcentagem de nulos = 0.29835232522328303\n"
     ]
    },
    {
     "data": {
      "text/html": [
       "<div>\n",
       "<style scoped>\n",
       "    .dataframe tbody tr th:only-of-type {\n",
       "        vertical-align: middle;\n",
       "    }\n",
       "\n",
       "    .dataframe tbody tr th {\n",
       "        vertical-align: top;\n",
       "    }\n",
       "\n",
       "    .dataframe thead th {\n",
       "        text-align: right;\n",
       "    }\n",
       "</style>\n",
       "<table border=\"1\" class=\"dataframe\">\n",
       "  <thead>\n",
       "    <tr style=\"text-align: right;\">\n",
       "      <th></th>\n",
       "      <th>Gender</th>\n",
       "      <th>Customer Type</th>\n",
       "      <th>Age</th>\n",
       "      <th>Type of Travel</th>\n",
       "      <th>Class</th>\n",
       "      <th>Flight Distance</th>\n",
       "      <th>Inflight wifi service</th>\n",
       "      <th>Departure/Arrival time convenient</th>\n",
       "      <th>Ease of Online booking</th>\n",
       "      <th>Gate location</th>\n",
       "      <th>...</th>\n",
       "      <th>Inflight entertainment</th>\n",
       "      <th>On-board service</th>\n",
       "      <th>Leg room service</th>\n",
       "      <th>Baggage handling</th>\n",
       "      <th>Checkin service</th>\n",
       "      <th>Inflight service</th>\n",
       "      <th>Cleanliness</th>\n",
       "      <th>Departure Delay in Minutes</th>\n",
       "      <th>Arrival Delay in Minutes</th>\n",
       "      <th>satisfaction</th>\n",
       "    </tr>\n",
       "  </thead>\n",
       "  <tbody>\n",
       "    <tr>\n",
       "      <th>0</th>\n",
       "      <td>Male</td>\n",
       "      <td>Loyal Customer</td>\n",
       "      <td>13</td>\n",
       "      <td>Personal Travel</td>\n",
       "      <td>Eco Plus</td>\n",
       "      <td>460</td>\n",
       "      <td>3</td>\n",
       "      <td>4</td>\n",
       "      <td>3</td>\n",
       "      <td>1</td>\n",
       "      <td>...</td>\n",
       "      <td>5</td>\n",
       "      <td>4</td>\n",
       "      <td>3</td>\n",
       "      <td>4</td>\n",
       "      <td>4</td>\n",
       "      <td>5</td>\n",
       "      <td>5</td>\n",
       "      <td>25</td>\n",
       "      <td>18.0</td>\n",
       "      <td>neutral or dissatisfied</td>\n",
       "    </tr>\n",
       "    <tr>\n",
       "      <th>1</th>\n",
       "      <td>Male</td>\n",
       "      <td>disloyal Customer</td>\n",
       "      <td>25</td>\n",
       "      <td>Business travel</td>\n",
       "      <td>Business</td>\n",
       "      <td>235</td>\n",
       "      <td>3</td>\n",
       "      <td>2</td>\n",
       "      <td>3</td>\n",
       "      <td>3</td>\n",
       "      <td>...</td>\n",
       "      <td>1</td>\n",
       "      <td>1</td>\n",
       "      <td>5</td>\n",
       "      <td>3</td>\n",
       "      <td>1</td>\n",
       "      <td>4</td>\n",
       "      <td>1</td>\n",
       "      <td>1</td>\n",
       "      <td>6.0</td>\n",
       "      <td>neutral or dissatisfied</td>\n",
       "    </tr>\n",
       "  </tbody>\n",
       "</table>\n",
       "<p>2 rows × 23 columns</p>\n",
       "</div>"
      ],
      "text/plain": [
       "  Gender      Customer Type  Age   Type of Travel     Class  Flight Distance  \\\n",
       "0   Male     Loyal Customer   13  Personal Travel  Eco Plus              460   \n",
       "1   Male  disloyal Customer   25  Business travel  Business              235   \n",
       "\n",
       "   Inflight wifi service  Departure/Arrival time convenient  \\\n",
       "0                      3                                  4   \n",
       "1                      3                                  2   \n",
       "\n",
       "   Ease of Online booking  Gate location  ...  Inflight entertainment  \\\n",
       "0                       3              1  ...                       5   \n",
       "1                       3              3  ...                       1   \n",
       "\n",
       "   On-board service  Leg room service  Baggage handling  Checkin service  \\\n",
       "0                 4                 3                 4                4   \n",
       "1                 1                 5                 3                1   \n",
       "\n",
       "   Inflight service  Cleanliness  Departure Delay in Minutes  \\\n",
       "0                 5            5                          25   \n",
       "1                 4            1                           1   \n",
       "\n",
       "   Arrival Delay in Minutes             satisfaction  \n",
       "0                      18.0  neutral or dissatisfied  \n",
       "1                       6.0  neutral or dissatisfied  \n",
       "\n",
       "[2 rows x 23 columns]"
      ]
     },
     "execution_count": 248,
     "metadata": {},
     "output_type": "execute_result"
    }
   ],
   "source": [
    "\n",
    "#Fazendo o tratamento de dados\n",
    "nulos_arrival = data['Arrival Delay in Minutes'].isna().sum()\n",
    "porcentagem_nulos = int(nulos_arrival)/int(data.shape[0])*100\n",
    "print(f'porcentagem de nulos = {porcentagem_nulos}')\n",
    "data.isnull().sum()\n",
    "\n",
    "#Logo, como a porcentagem de nulos é muito baixa (menos de 0.5%) minha escolha para tratar vai ser excluir todos\n",
    "data.dropna(inplace=True)\n",
    "data.head(2)\n"
   ]
  },
  {
   "cell_type": "code",
   "execution_count": 249,
   "metadata": {},
   "outputs": [],
   "source": [
    "# report = ProfileReport(data,title='Airline')\n",
    "# report.to_notebook_iframe()"
   ]
  },
  {
   "cell_type": "code",
   "execution_count": 250,
   "metadata": {},
   "outputs": [
    {
     "name": "stdout",
     "output_type": "stream",
     "text": [
      "Female    52576\n",
      "Male      51018\n",
      "Name: Gender, dtype: int64\n",
      "Porcentagem de mulheres = 50.75%\n",
      "Porcentagem de homens = 49.25%\n"
     ]
    },
    {
     "data": {
      "text/plain": [
       "Text(0, 0.5, 'Contagem')"
      ]
     },
     "execution_count": 250,
     "metadata": {},
     "output_type": "execute_result"
    },
    {
     "data": {
      "image/png": "[encoded data removed]",
      "text/plain": [
       "<Figure size 300x300 with 1 Axes>"
      ]
     },
     "metadata": {},
     "output_type": "display_data"
    }
   ],
   "source": [
    "#Entendendo melhor como o meu dataset está estruturado \n",
    "\"\"\"\n",
    "1. Como está minha distribuição de genero ?\n",
    "    Female    52576 - 50.75%\n",
    "    Male      51018 - 49.25%\n",
    "    \n",
    "    Ou seja, temos uma distribuição aceitavel para o nosso projeto\n",
    "\n",
    "2. Como está a minha distribuição de Tipo de cliente ?\n",
    "\n",
    "    Loyal Customer       84662 - 81.72%\n",
    "    disloyal Customer    18932 - 18.28%\n",
    "    Está desbalanceado. Conferir se vai influenciar os modelos\n",
    "\n",
    "3. Como está a minha distribuição de Tipo de viagem ?\n",
    "\n",
    "    Business travel    71465 - 68.99%\n",
    "    Personal Travel    32129 - 31.01%\n",
    "\n",
    "\n",
    "4. Como está a minha distribuição de idade ?\n",
    "    - Não temos outliers nas nossas idades\n",
    "    - A distribuição das idades não é normal\n",
    "\n",
    "\n",
    "5. Como está a minha distribuição de Classe ?\n",
    "    Business    49533 - 47.81%\n",
    "    Eco         46593 - 44.98%\n",
    "    Eco Plus     7468 - 7.21%\n",
    "\n",
    "\"\"\"\n",
    "#(1)\n",
    "genero = data['Gender']\n",
    "print(genero.value_counts())\n",
    "print(f'Porcentagem de mulheres = { round((genero.value_counts()[0]/genero.shape[0]) * 100, 2) }%')\n",
    "print(f'Porcentagem de homens = { round((genero.value_counts()[1]/genero.shape[0]) * 100, 2) }%')\n",
    "\n",
    "#Plotando um gráfico para treinamento, analisando essa distribuição de idades\n",
    "fig, ax = plt.subplots(figsize=(3, 3))\n",
    "sns.countplot(x=data['Gender'], data=data, palette='Blues',ax=ax)\n",
    "# Adiciona um título e rótulos de eixos\n",
    "plt.title('Distribuição de Gênero')\n",
    "plt.xlabel('Gênero')\n",
    "plt.ylabel('Contagem')\n"
   ]
  },
  {
   "cell_type": "code",
   "execution_count": 251,
   "metadata": {},
   "outputs": [
    {
     "name": "stdout",
     "output_type": "stream",
     "text": [
      "Loyal Customer       84662\n",
      "disloyal Customer    18932\n",
      "Name: Customer Type, dtype: int64\n",
      "Porcentagem de Loyal Customer  = 81.72%\n",
      "Porcentagem de disloyal Customer = 18.28%\n"
     ]
    },
    {
     "data": {
      "text/plain": [
       "Text(0, 0.5, 'Contagem')"
      ]
     },
     "execution_count": 251,
     "metadata": {},
     "output_type": "execute_result"
    },
    {
     "data": {
      "image/png": "[encoded data removed]",
      "text/plain": [
       "<Figure size 300x300 with 1 Axes>"
      ]
     },
     "metadata": {},
     "output_type": "display_data"
    }
   ],
   "source": [
    "#Respondendo 2\n",
    "\n",
    "tipo_cliente = data['Customer Type']\n",
    "print(tipo_cliente.value_counts())\n",
    "print(f'Porcentagem de Loyal Customer  = { round((tipo_cliente.value_counts()[0]/tipo_cliente.shape[0]) * 100, 2) }%')\n",
    "print(f'Porcentagem de disloyal Customer = { round((tipo_cliente.value_counts()[1]/tipo_cliente.shape[0]) * 100, 2) }%')\n",
    "\n",
    "#plotando um gráfico simples de barras para treinar usar o seaborn\n",
    "fig, ax = plt.subplots(figsize=(3, 3))\n",
    "sns.countplot(x=tipo_cliente, data=data, ax=ax)\n",
    "plt.title('Tipo de cliente')\n",
    "plt.xlabel(' ')\n",
    "plt.ylabel('Contagem')"
   ]
  },
  {
   "cell_type": "code",
   "execution_count": 252,
   "metadata": {},
   "outputs": [
    {
     "name": "stdout",
     "output_type": "stream",
     "text": [
      "Business travel    71465\n",
      "Personal Travel    32129\n",
      "Name: Type of Travel, dtype: int64\n",
      "Porcentagem de Business travel  = 68.99%\n",
      "Porcentagem de Personal Travel = 31.01%\n"
     ]
    },
    {
     "data": {
      "text/plain": [
       "([<matplotlib.patches.Wedge at 0x19baa886500>,\n",
       "  <matplotlib.patches.Wedge at 0x19baa886a10>],\n",
       " [Text(-0.6178815868203661, 0.9100672198625477, 'Business travel'),\n",
       "  Text(0.6178815016137211, -0.9100672777127926, 'Personal Travel')],\n",
       " [Text(-0.337026320083836, 0.49640030174320776, '69.0%'),\n",
       "  Text(0.3370262736074842, -0.4964003332978868, '31.0%')])"
      ]
     },
     "execution_count": 252,
     "metadata": {},
     "output_type": "execute_result"
    },
    {
     "data": {
      "image/png": "[encoded data removed]",
      "text/plain": [
       "<Figure size 300x300 with 1 Axes>"
      ]
     },
     "metadata": {},
     "output_type": "display_data"
    }
   ],
   "source": [
    "#Respondendo 3 \n",
    "tipo_viagem = data['Type of Travel']\n",
    "print(tipo_viagem.value_counts())\n",
    "print(f'Porcentagem de Business travel  = { round((tipo_viagem.value_counts()[0]/tipo_viagem.shape[0]) * 100, 2) }%')\n",
    "print(f'Porcentagem de Personal Travel = { round((tipo_viagem.value_counts()[1]/tipo_viagem.shape[0]) * 100, 2) }%')\n",
    "\n",
    "#plotando o gráfico de barras para treinar \n",
    "fig, ax = plt.subplots(figsize=(3, 3))\n",
    "ax.pie(tipo_viagem.value_counts(), labels=tipo_viagem.value_counts().index, autopct='%1.1f%%', colors=sns.color_palette())"
   ]
  },
  {
   "cell_type": "code",
   "execution_count": 253,
   "metadata": {},
   "outputs": [
    {
     "name": "stdout",
     "output_type": "stream",
     "text": [
      "Tudo certo com as idades\n"
     ]
    },
    {
     "name": "stderr",
     "output_type": "stream",
     "text": [
      "C:\\Users\\Vinicius\\AppData\\Local\\Temp\\ipykernel_8500\\2573803104.py:16: FutureWarning: \n",
      "\n",
      "`shade` is now deprecated in favor of `fill`; setting `fill=True`.\n",
      "This will become an error in seaborn v0.14.0; please update your code.\n",
      "\n",
      "  sns.kdeplot(data=data, x='Age', shade=True)\n"
     ]
    },
    {
     "data": {
      "text/plain": [
       "<AxesSubplot: xlabel='Age', ylabel='Density'>"
      ]
     },
     "execution_count": 253,
     "metadata": {},
     "output_type": "execute_result"
    },
    {
     "data": {
      "image/png": "[encoded data removed]",
      "text/plain": [
       "<Figure size 2000x500 with 3 Axes>"
      ]
     },
     "metadata": {},
     "output_type": "display_data"
    }
   ],
   "source": [
    "#Respondendo (4)\n",
    "\n",
    "idade = data['Age']\n",
    "contagem_idade = idade.value_counts()\n",
    "idades_erradas = (idade < 0) | (idade > 120)\n",
    "if any(idades_erradas):\n",
    "    print('Há idade fora do range possível')    \n",
    "else:\n",
    "    print('Tudo certo com as idades')\n",
    "#Conferir se há outliers na idade\n",
    "mu, sigma = norm.fit(data['Age'])\n",
    "fig, axs = plt.subplots(ncols=3, figsize=(20, 5))\n",
    "sns.boxenplot(x=idade, ax=axs[0])\n",
    "sns.boxplot(x='Gender', y='Age', data=data, showfliers=True, whis=1.0, color='lightblue',ax=axs[1])\n",
    "plt.plot(sorted(data['Age']), norm.pdf(sorted(data['Age']), mu, sigma))\n",
    "sns.kdeplot(data=data, x='Age', shade=True) \n",
    "\n"
   ]
  },
  {
   "cell_type": "code",
   "execution_count": 254,
   "metadata": {},
   "outputs": [
    {
     "name": "stdout",
     "output_type": "stream",
     "text": [
      "Business    49533\n",
      "Eco         46593\n",
      "Eco Plus     7468\n",
      "Name: Class, dtype: int64\n",
      "Porcentagem de Business = 47.81%\n",
      "Porcentagem de Eco = 44.98%\n",
      "Porcentagem de Eco Plus = 7.21%\n"
     ]
    },
    {
     "data": {
      "text/plain": [
       "<AxesSubplot: xlabel='Class', ylabel='count'>"
      ]
     },
     "execution_count": 254,
     "metadata": {},
     "output_type": "execute_result"
    },
    {
     "data": {
      "image/png": "[encoded data removed]",
      "text/plain": [
       "<Figure size 300x300 with 1 Axes>"
      ]
     },
     "metadata": {},
     "output_type": "display_data"
    }
   ],
   "source": [
    "#Respondendo 5\n",
    "tipos_classes = data['Class']\n",
    "\n",
    "print(tipos_classes.value_counts())\n",
    "print(f'Porcentagem de Business = { round((tipos_classes.value_counts()[0]/tipos_classes.shape[0]) * 100, 2) }%')\n",
    "print(f'Porcentagem de Eco = { round((tipos_classes.value_counts()[1]/tipos_classes.shape[0]) * 100, 2) }%')\n",
    "print(f'Porcentagem de Eco Plus = { round((tipos_classes.value_counts()[2]/tipos_classes.shape[0]) * 100, 2) }%')\n",
    "\n",
    "#plotando um gráfico de barras para a distribuição\n",
    "fig, ax = plt.subplots(figsize=(3, 3))\n",
    "sns.countplot(data=data, x='Class', palette='deep')\n"
   ]
  },
  {
   "cell_type": "code",
   "execution_count": 255,
   "metadata": {},
   "outputs": [
    {
     "name": "stdout",
     "output_type": "stream",
     "text": [
      "Gender                                object\n",
      "Customer Type                         object\n",
      "Age                                    int64\n",
      "Type of Travel                        object\n",
      "Class                                 object\n",
      "Flight Distance                        int64\n",
      "Inflight wifi service                  int64\n",
      "Departure/Arrival time convenient      int64\n",
      "Ease of Online booking                 int64\n",
      "Gate location                          int64\n",
      "Food and drink                         int64\n",
      "Online boarding                        int64\n",
      "Seat comfort                           int64\n",
      "Inflight entertainment                 int64\n",
      "On-board service                       int64\n",
      "Leg room service                       int64\n",
      "Baggage handling                       int64\n",
      "Checkin service                        int64\n",
      "Inflight service                       int64\n",
      "Cleanliness                            int64\n",
      "Departure Delay in Minutes             int64\n",
      "Arrival Delay in Minutes             float64\n",
      "satisfaction                          object\n",
      "dtype: object\n"
     ]
    },
    {
     "data": {
      "text/html": [
       "<div>\n",
       "<style scoped>\n",
       "    .dataframe tbody tr th:only-of-type {\n",
       "        vertical-align: middle;\n",
       "    }\n",
       "\n",
       "    .dataframe tbody tr th {\n",
       "        vertical-align: top;\n",
       "    }\n",
       "\n",
       "    .dataframe thead th {\n",
       "        text-align: right;\n",
       "    }\n",
       "</style>\n",
       "<table border=\"1\" class=\"dataframe\">\n",
       "  <thead>\n",
       "    <tr style=\"text-align: right;\">\n",
       "      <th></th>\n",
       "      <th>Gender</th>\n",
       "      <th>Customer Type</th>\n",
       "      <th>Age</th>\n",
       "      <th>Type of Travel</th>\n",
       "      <th>Class</th>\n",
       "      <th>Flight Distance</th>\n",
       "      <th>Inflight wifi service</th>\n",
       "      <th>Departure/Arrival time convenient</th>\n",
       "      <th>Ease of Online booking</th>\n",
       "      <th>Gate location</th>\n",
       "      <th>...</th>\n",
       "      <th>Inflight entertainment</th>\n",
       "      <th>On-board service</th>\n",
       "      <th>Leg room service</th>\n",
       "      <th>Baggage handling</th>\n",
       "      <th>Checkin service</th>\n",
       "      <th>Inflight service</th>\n",
       "      <th>Cleanliness</th>\n",
       "      <th>Departure Delay in Minutes</th>\n",
       "      <th>Arrival Delay in Minutes</th>\n",
       "      <th>satisfaction</th>\n",
       "    </tr>\n",
       "  </thead>\n",
       "  <tbody>\n",
       "    <tr>\n",
       "      <th>0</th>\n",
       "      <td>Male</td>\n",
       "      <td>Loyal Customer</td>\n",
       "      <td>13</td>\n",
       "      <td>Personal Travel</td>\n",
       "      <td>Eco Plus</td>\n",
       "      <td>460</td>\n",
       "      <td>3</td>\n",
       "      <td>4</td>\n",
       "      <td>3</td>\n",
       "      <td>1</td>\n",
       "      <td>...</td>\n",
       "      <td>5</td>\n",
       "      <td>4</td>\n",
       "      <td>3</td>\n",
       "      <td>4</td>\n",
       "      <td>4</td>\n",
       "      <td>5</td>\n",
       "      <td>5</td>\n",
       "      <td>25</td>\n",
       "      <td>18.0</td>\n",
       "      <td>neutral or dissatisfied</td>\n",
       "    </tr>\n",
       "    <tr>\n",
       "      <th>1</th>\n",
       "      <td>Male</td>\n",
       "      <td>disloyal Customer</td>\n",
       "      <td>25</td>\n",
       "      <td>Business travel</td>\n",
       "      <td>Business</td>\n",
       "      <td>235</td>\n",
       "      <td>3</td>\n",
       "      <td>2</td>\n",
       "      <td>3</td>\n",
       "      <td>3</td>\n",
       "      <td>...</td>\n",
       "      <td>1</td>\n",
       "      <td>1</td>\n",
       "      <td>5</td>\n",
       "      <td>3</td>\n",
       "      <td>1</td>\n",
       "      <td>4</td>\n",
       "      <td>1</td>\n",
       "      <td>1</td>\n",
       "      <td>6.0</td>\n",
       "      <td>neutral or dissatisfied</td>\n",
       "    </tr>\n",
       "  </tbody>\n",
       "</table>\n",
       "<p>2 rows × 23 columns</p>\n",
       "</div>"
      ],
      "text/plain": [
       "  Gender      Customer Type  Age   Type of Travel     Class  Flight Distance  \\\n",
       "0   Male     Loyal Customer   13  Personal Travel  Eco Plus              460   \n",
       "1   Male  disloyal Customer   25  Business travel  Business              235   \n",
       "\n",
       "   Inflight wifi service  Departure/Arrival time convenient  \\\n",
       "0                      3                                  4   \n",
       "1                      3                                  2   \n",
       "\n",
       "   Ease of Online booking  Gate location  ...  Inflight entertainment  \\\n",
       "0                       3              1  ...                       5   \n",
       "1                       3              3  ...                       1   \n",
       "\n",
       "   On-board service  Leg room service  Baggage handling  Checkin service  \\\n",
       "0                 4                 3                 4                4   \n",
       "1                 1                 5                 3                1   \n",
       "\n",
       "   Inflight service  Cleanliness  Departure Delay in Minutes  \\\n",
       "0                 5            5                          25   \n",
       "1                 4            1                           1   \n",
       "\n",
       "   Arrival Delay in Minutes             satisfaction  \n",
       "0                      18.0  neutral or dissatisfied  \n",
       "1                       6.0  neutral or dissatisfied  \n",
       "\n",
       "[2 rows x 23 columns]"
      ]
     },
     "execution_count": 255,
     "metadata": {},
     "output_type": "execute_result"
    }
   ],
   "source": [
    "print(data.dtypes)\n",
    "data.head(2)"
   ]
  },
  {
   "cell_type": "code",
   "execution_count": 256,
   "metadata": {},
   "outputs": [
    {
     "name": "stdout",
     "output_type": "stream",
     "text": [
      "(103904, 24)\n",
      "porcentagem de nulos = 0.29835232522328303\n"
     ]
    },
    {
     "data": {
      "text/html": [
       "<div>\n",
       "<style scoped>\n",
       "    .dataframe tbody tr th:only-of-type {\n",
       "        vertical-align: middle;\n",
       "    }\n",
       "\n",
       "    .dataframe tbody tr th {\n",
       "        vertical-align: top;\n",
       "    }\n",
       "\n",
       "    .dataframe thead th {\n",
       "        text-align: right;\n",
       "    }\n",
       "</style>\n",
       "<table border=\"1\" class=\"dataframe\">\n",
       "  <thead>\n",
       "    <tr style=\"text-align: right;\">\n",
       "      <th></th>\n",
       "      <th>Gender</th>\n",
       "      <th>Customer Type</th>\n",
       "      <th>Age</th>\n",
       "      <th>Type of Travel</th>\n",
       "      <th>Class</th>\n",
       "      <th>Flight Distance</th>\n",
       "      <th>Inflight wifi service</th>\n",
       "      <th>Departure/Arrival time convenient</th>\n",
       "      <th>Ease of Online booking</th>\n",
       "      <th>Gate location</th>\n",
       "      <th>...</th>\n",
       "      <th>Inflight entertainment</th>\n",
       "      <th>On-board service</th>\n",
       "      <th>Leg room service</th>\n",
       "      <th>Baggage handling</th>\n",
       "      <th>Checkin service</th>\n",
       "      <th>Inflight service</th>\n",
       "      <th>Cleanliness</th>\n",
       "      <th>Departure Delay in Minutes</th>\n",
       "      <th>Arrival Delay in Minutes</th>\n",
       "      <th>satisfaction</th>\n",
       "    </tr>\n",
       "  </thead>\n",
       "  <tbody>\n",
       "    <tr>\n",
       "      <th>0</th>\n",
       "      <td>Male</td>\n",
       "      <td>Loyal Customer</td>\n",
       "      <td>13</td>\n",
       "      <td>Personal Travel</td>\n",
       "      <td>Eco Plus</td>\n",
       "      <td>460</td>\n",
       "      <td>3</td>\n",
       "      <td>4</td>\n",
       "      <td>3</td>\n",
       "      <td>1</td>\n",
       "      <td>...</td>\n",
       "      <td>5</td>\n",
       "      <td>4</td>\n",
       "      <td>3</td>\n",
       "      <td>4</td>\n",
       "      <td>4</td>\n",
       "      <td>5</td>\n",
       "      <td>5</td>\n",
       "      <td>25</td>\n",
       "      <td>18.0</td>\n",
       "      <td>neutral or dissatisfied</td>\n",
       "    </tr>\n",
       "    <tr>\n",
       "      <th>1</th>\n",
       "      <td>Male</td>\n",
       "      <td>disloyal Customer</td>\n",
       "      <td>25</td>\n",
       "      <td>Business travel</td>\n",
       "      <td>Business</td>\n",
       "      <td>235</td>\n",
       "      <td>3</td>\n",
       "      <td>2</td>\n",
       "      <td>3</td>\n",
       "      <td>3</td>\n",
       "      <td>...</td>\n",
       "      <td>1</td>\n",
       "      <td>1</td>\n",
       "      <td>5</td>\n",
       "      <td>3</td>\n",
       "      <td>1</td>\n",
       "      <td>4</td>\n",
       "      <td>1</td>\n",
       "      <td>1</td>\n",
       "      <td>6.0</td>\n",
       "      <td>neutral or dissatisfied</td>\n",
       "    </tr>\n",
       "  </tbody>\n",
       "</table>\n",
       "<p>2 rows × 23 columns</p>\n",
       "</div>"
      ],
      "text/plain": [
       "  Gender      Customer Type  Age   Type of Travel     Class  Flight Distance  \\\n",
       "0   Male     Loyal Customer   13  Personal Travel  Eco Plus              460   \n",
       "1   Male  disloyal Customer   25  Business travel  Business              235   \n",
       "\n",
       "   Inflight wifi service  Departure/Arrival time convenient  \\\n",
       "0                      3                                  4   \n",
       "1                      3                                  2   \n",
       "\n",
       "   Ease of Online booking  Gate location  ...  Inflight entertainment  \\\n",
       "0                       3              1  ...                       5   \n",
       "1                       3              3  ...                       1   \n",
       "\n",
       "   On-board service  Leg room service  Baggage handling  Checkin service  \\\n",
       "0                 4                 3                 4                4   \n",
       "1                 1                 5                 3                1   \n",
       "\n",
       "   Inflight service  Cleanliness  Departure Delay in Minutes  \\\n",
       "0                 5            5                          25   \n",
       "1                 4            1                           1   \n",
       "\n",
       "   Arrival Delay in Minutes             satisfaction  \n",
       "0                      18.0  neutral or dissatisfied  \n",
       "1                       6.0  neutral or dissatisfied  \n",
       "\n",
       "[2 rows x 23 columns]"
      ]
     },
     "execution_count": 256,
     "metadata": {},
     "output_type": "execute_result"
    }
   ],
   "source": [
    "file = 'train.csv'\n",
    "data = pd.read_csv(file, index_col=0)\n",
    "print(data.shape)\n",
    "data.head()\n",
    "data.drop(['id'], axis=1, inplace=True)\n",
    "#Fazendo o tratamento de dados\n",
    "nulos_arrival = data['Arrival Delay in Minutes'].isna().sum()\n",
    "porcentagem_nulos = int(nulos_arrival)/int(data.shape[0])*100\n",
    "print(f'porcentagem de nulos = {porcentagem_nulos}')\n",
    "data.isnull().sum()\n",
    "\n",
    "#Logo, como a porcentagem de nulos é muito baixa (menos de 0.5%) minha escolha para tratar vai ser excluir todos\n",
    "data.dropna(inplace=True)\n",
    "data.head(2)\n"
   ]
  },
  {
   "cell_type": "code",
   "execution_count": 257,
   "metadata": {},
   "outputs": [
    {
     "name": "stdout",
     "output_type": "stream",
     "text": [
      "(77695, 22) (25899, 22) (77695,) (25899,)\n"
     ]
    }
   ],
   "source": [
    "#Separando os dados\n",
    "x = data.iloc[:, 0:22]\n",
    "y = data.iloc[:, -1]\n",
    "\n",
    "x_treino, x_teste, y_treino, y_teste = train_test_split(x, y, test_size=0.25, random_state=0)\n",
    "print(x_treino.shape, x_teste.shape, y_treino.shape, y_teste.shape)"
   ]
  },
  {
   "cell_type": "code",
   "execution_count": 258,
   "metadata": {},
   "outputs": [],
   "source": [
    "#Tratando os dados da base de treino\n",
    "le = LabelEncoder()\n",
    "x_treino['Class'] = le.fit_transform(x_treino['Class'])\n",
    "\n",
    "le_target = LabelEncoder()\n",
    "y_treino = le_target.fit_transform(y_treino)\n",
    "y_teste = le_target.transform(y_teste)\n",
    "\n",
    "\n",
    "ohe = OneHotEncoder(cols=['Gender', 'Customer Type', 'Type of Travel'], use_cat_names=True)\n",
    "x_treino = ohe.fit_transform(x_treino)\n",
    "\n",
    "#Para a base de teste, precisamos passar esses mesmos tratamentos\n",
    "x_teste['Class'] = le.transform(x_teste['Class'])\n",
    "x_teste = ohe.transform(x_teste)\n",
    "\n",
    "\n"
   ]
  },
  {
   "attachments": {},
   "cell_type": "markdown",
   "metadata": {},
   "source": [
    "### Random Forest"
   ]
  },
  {
   "cell_type": "code",
   "execution_count": 259,
   "metadata": {},
   "outputs": [
    {
     "name": "stdout",
     "output_type": "stream",
     "text": [
      "0.9596895633036024\n"
     ]
    },
    {
     "data": {
      "text/plain": [
       "array([[14296,   362],\n",
       "       [  682, 10559]], dtype=int64)"
      ]
     },
     "execution_count": 259,
     "metadata": {},
     "output_type": "execute_result"
    }
   ],
   "source": [
    "#Treinando os modelos: Random Forest\n",
    "modelo_arvore = RandomForestClassifier(n_estimators=100, criterion='gini', max_depth=20, min_samples_leaf=4, max_features='log2')\n",
    "treino_arvore = modelo_arvore.fit(x_treino, y_treino)\n",
    "\n",
    "previsao_arvore = treino_arvore.predict(x_teste)\n",
    "acc_arvore = accuracy_score(y_teste, previsao_arvore)\n",
    "confusao_arvore = confusion_matrix(y_teste, previsao_arvore)\n",
    "print(acc_arvore)\n",
    "confusao_arvore"
   ]
  },
  {
   "attachments": {},
   "cell_type": "markdown",
   "metadata": {},
   "source": [
    "### SVC"
   ]
  },
  {
   "cell_type": "code",
   "execution_count": 260,
   "metadata": {},
   "outputs": [
    {
     "name": "stdout",
     "output_type": "stream",
     "text": [
      "0.7148924668906136\n",
      "0.7148924668906136\n"
     ]
    },
    {
     "data": {
      "text/plain": [
       "array([[13977,   681],\n",
       "       [ 6703,  4538]], dtype=int64)"
      ]
     },
     "execution_count": 260,
     "metadata": {},
     "output_type": "execute_result"
    }
   ],
   "source": [
    "#Testar outros parametros para o SVC\n",
    "modelo_svc = SVC(C=2, kernel='poly')\n",
    "treino_svc = modelo_svc.fit(x_treino, y_treino)\n",
    "previsao_svc = modelo_svc.predict(x_teste)\n",
    "acc_svc = accuracy_score(y_teste, previsao_svc)\n",
    "print(acc_svc)\n",
    "confusao_svc = confusion_matrix(y_teste, previsao_svc)\n",
    "print(acc_svc)\n",
    "confusao_svc"
   ]
  },
  {
   "attachments": {},
   "cell_type": "markdown",
   "metadata": {},
   "source": [
    "### XGBClassifier"
   ]
  },
  {
   "cell_type": "code",
   "execution_count": 261,
   "metadata": {},
   "outputs": [
    {
     "name": "stdout",
     "output_type": "stream",
     "text": [
      "0.9378354376616858\n"
     ]
    },
    {
     "data": {
      "text/plain": [
       "array([[14025,   633],\n",
       "       [  977, 10264]], dtype=int64)"
      ]
     },
     "execution_count": 261,
     "metadata": {},
     "output_type": "execute_result"
    }
   ],
   "source": [
    "#Testando o modelo de XGBClassifier\n",
    "modelo_XGBClassifier = XGBClassifier(max_depth=4, learning_rate=0.05, n_estimators=100, subsample=0.675, colsample_bytree=0.9, reg_alpha=0.5, reg_lambda=0.5, random_state=42)\n",
    "treino_xgb = modelo_XGBClassifier.fit(x_treino, y_treino)\n",
    "previsao_xgb = treino_xgb.predict(x_teste)\n",
    "acc_xgb = accuracy_score(y_teste, previsao_xgb)\n",
    "print(acc_xgb)\n",
    "confusao_xgb = confusion_matrix(y_teste, previsao_xgb)\n",
    "confusao_xgb "
   ]
  },
  {
   "attachments": {},
   "cell_type": "markdown",
   "metadata": {},
   "source": [
    "### Rede neural"
   ]
  },
  {
   "cell_type": "code",
   "execution_count": 262,
   "metadata": {},
   "outputs": [
    {
     "name": "stdout",
     "output_type": "stream",
     "text": [
      "0.9413490868373297\n"
     ]
    },
    {
     "data": {
      "text/plain": [
       "array([[13973,   685],\n",
       "       [  834, 10407]], dtype=int64)"
      ]
     },
     "execution_count": 262,
     "metadata": {},
     "output_type": "execute_result"
    }
   ],
   "source": [
    "#Treinando o modelo de rede neural\n",
    "modelo_neural = MLPClassifier(hidden_layer_sizes=(100, 100), max_iter=1000, alpha=0.0001, solver='adam', verbose=False,  random_state=21, tol=0.00001)\n",
    "treino_neural = modelo_neural.fit(x_treino, y_treino)\n",
    "previsao_neural = treino_neural.predict(x_teste)\n",
    "acc_neural = accuracy_score(y_teste, previsao_neural)\n",
    "print(acc_neural)\n",
    "confusao_neural = confusion_matrix(y_teste, previsao_neural)\n",
    "confusao_neural"
   ]
  },
  {
   "attachments": {},
   "cell_type": "markdown",
   "metadata": {},
   "source": [
    "##### Coeficientes rede neural "
   ]
  },
  {
   "cell_type": "code",
   "execution_count": 263,
   "metadata": {},
   "outputs": [
    {
     "data": {
      "text/html": [
       "<div>\n",
       "<style scoped>\n",
       "    .dataframe tbody tr th:only-of-type {\n",
       "        vertical-align: middle;\n",
       "    }\n",
       "\n",
       "    .dataframe tbody tr th {\n",
       "        vertical-align: top;\n",
       "    }\n",
       "\n",
       "    .dataframe thead th {\n",
       "        text-align: right;\n",
       "    }\n",
       "</style>\n",
       "<table border=\"1\" class=\"dataframe\">\n",
       "  <thead>\n",
       "    <tr style=\"text-align: right;\">\n",
       "      <th></th>\n",
       "      <th></th>\n",
       "      <th>Layer 0</th>\n",
       "      <th>Layer 1</th>\n",
       "      <th>Layer 2</th>\n",
       "    </tr>\n",
       "  </thead>\n",
       "  <tbody>\n",
       "    <tr>\n",
       "      <th rowspan=\"5\" valign=\"top\">Neuron 0</th>\n",
       "      <th>Neuron 0</th>\n",
       "      <td>-6.661287e-316</td>\n",
       "      <td>-5.424445e-316</td>\n",
       "      <td>1.521156e-02</td>\n",
       "    </tr>\n",
       "    <tr>\n",
       "      <th>Neuron 1</th>\n",
       "      <td>3.071976e-315</td>\n",
       "      <td>1.240561e-93</td>\n",
       "      <td>1.205274e-315</td>\n",
       "    </tr>\n",
       "    <tr>\n",
       "      <th>Neuron 2</th>\n",
       "      <td>4.168522e-315</td>\n",
       "      <td>1.123425e-03</td>\n",
       "      <td>-3.205322e-315</td>\n",
       "    </tr>\n",
       "    <tr>\n",
       "      <th>Neuron 3</th>\n",
       "      <td>2.934807e-315</td>\n",
       "      <td>-4.643107e-28</td>\n",
       "      <td>3.246078e-315</td>\n",
       "    </tr>\n",
       "    <tr>\n",
       "      <th>Neuron 4</th>\n",
       "      <td>9.612312e-317</td>\n",
       "      <td>6.161209e-179</td>\n",
       "      <td>-2.920889e-01</td>\n",
       "    </tr>\n",
       "    <tr>\n",
       "      <th>...</th>\n",
       "      <th>...</th>\n",
       "      <td>...</td>\n",
       "      <td>...</td>\n",
       "      <td>...</td>\n",
       "    </tr>\n",
       "    <tr>\n",
       "      <th rowspan=\"5\" valign=\"top\">Neuron 99</th>\n",
       "      <th>Neuron 20</th>\n",
       "      <td>-7.970257e-316</td>\n",
       "      <td>1.082818e-315</td>\n",
       "      <td>NaN</td>\n",
       "    </tr>\n",
       "    <tr>\n",
       "      <th>Neuron 21</th>\n",
       "      <td>9.428385e-316</td>\n",
       "      <td>3.247309e-02</td>\n",
       "      <td>NaN</td>\n",
       "    </tr>\n",
       "    <tr>\n",
       "      <th>Neuron 22</th>\n",
       "      <td>-1.908013e-315</td>\n",
       "      <td>-3.303628e-315</td>\n",
       "      <td>NaN</td>\n",
       "    </tr>\n",
       "    <tr>\n",
       "      <th>Neuron 23</th>\n",
       "      <td>3.167263e-315</td>\n",
       "      <td>8.596115e-02</td>\n",
       "      <td>NaN</td>\n",
       "    </tr>\n",
       "    <tr>\n",
       "      <th>Neuron 24</th>\n",
       "      <td>3.029952e-315</td>\n",
       "      <td>-1.264223e-315</td>\n",
       "      <td>NaN</td>\n",
       "    </tr>\n",
       "  </tbody>\n",
       "</table>\n",
       "<p>2500 rows × 3 columns</p>\n",
       "</div>"
      ],
      "text/plain": [
       "                           Layer 0        Layer 1        Layer 2\n",
       "Neuron 0  Neuron 0  -6.661287e-316 -5.424445e-316   1.521156e-02\n",
       "          Neuron 1   3.071976e-315   1.240561e-93  1.205274e-315\n",
       "          Neuron 2   4.168522e-315   1.123425e-03 -3.205322e-315\n",
       "          Neuron 3   2.934807e-315  -4.643107e-28  3.246078e-315\n",
       "          Neuron 4   9.612312e-317  6.161209e-179  -2.920889e-01\n",
       "...                            ...            ...            ...\n",
       "Neuron 99 Neuron 20 -7.970257e-316  1.082818e-315            NaN\n",
       "          Neuron 21  9.428385e-316   3.247309e-02            NaN\n",
       "          Neuron 22 -1.908013e-315 -3.303628e-315            NaN\n",
       "          Neuron 23  3.167263e-315   8.596115e-02            NaN\n",
       "          Neuron 24  3.029952e-315 -1.264223e-315            NaN\n",
       "\n",
       "[2500 rows x 3 columns]"
      ]
     },
     "execution_count": 263,
     "metadata": {},
     "output_type": "execute_result"
    }
   ],
   "source": [
    "#Vendo os pesos da rede neural\n",
    "coefs = treino_neural.coefs_\n",
    "\n",
    "# Crie um DataFrame vazio para armazenar os coeficientes\n",
    "df_coefs = pd.DataFrame()\n",
    "\n",
    "# Preencha o DataFrame com os coeficientes\n",
    "for i, layer_coefs in enumerate(coefs):\n",
    "    layer_name = f'Layer {i}'\n",
    "    num_neurons_in = layer_coefs.shape[0]\n",
    "    num_neurons_out = layer_coefs.shape[1]\n",
    "    columns = [f'Neuron {j}' for j in range(num_neurons_out)]\n",
    "    index = [f'Neuron {j}' for j in range(num_neurons_in)]\n",
    "    layer_df = pd.DataFrame(layer_coefs, columns=columns, index=index)\n",
    "    df_coefs[layer_name] = layer_df.unstack()\n",
    "\n",
    "df_coefs"
   ]
  },
  {
   "attachments": {},
   "cell_type": "markdown",
   "metadata": {},
   "source": [
    "### KNN"
   ]
  },
  {
   "cell_type": "code",
   "execution_count": 264,
   "metadata": {},
   "outputs": [
    {
     "name": "stdout",
     "output_type": "stream",
     "text": [
      "0.7427699911193483\n"
     ]
    },
    {
     "data": {
      "text/plain": [
       "array([[11603,  3055],\n",
       "       [ 3607,  7634]], dtype=int64)"
      ]
     },
     "execution_count": 264,
     "metadata": {},
     "output_type": "execute_result"
    }
   ],
   "source": [
    "#Treinando o modelo de KNN\n",
    "modelo_knn = KNeighborsClassifier(n_neighbors=3, weights='uniform', algorithm='auto', leaf_size=30, p=2, metric='minkowski', metric_params=None, n_jobs=None)\n",
    "treino_knn = modelo_knn.fit(x_treino, y_treino)\n",
    "previsao_knn = treino_knn.predict(x_teste)\n",
    "acc_knn = accuracy_score(y_teste, previsao_knn)\n",
    "print(acc_knn)\n",
    "confusao_knn = confusion_matrix(y_teste, previsao_knn)\n",
    "confusao_knn"
   ]
  },
  {
   "cell_type": "code",
   "execution_count": null,
   "metadata": {},
   "outputs": [],
   "source": []
  },
  {
   "attachments": {},
   "cell_type": "markdown",
   "metadata": {},
   "source": [
    "### Testando com dados separados que nunca vi antes "
   ]
  },
  {
   "cell_type": "code",
   "execution_count": 265,
   "metadata": {},
   "outputs": [],
   "source": [
    "#Fazendo a importação dos dados e a limpeza de dados nulos. \n",
    "#Próximo passo é fazer o encoding dos dados categóricos\n",
    "file = 'test.csv'\n",
    "data_teste = pd.read_csv(file, index_col=0)\n",
    "data_teste.drop(['id'], axis=1, inplace=True)\n",
    "data_teste.dropna(inplace=True)\n",
    "\n",
    "#Tratando os dados da base de teste\n",
    "data_x = data_teste.iloc[:, 0:22]\n",
    "data_y = data_teste.iloc[:, -1]\n",
    "\n",
    "\n",
    "data_y = le_target.transform(data_y)\n",
    "\n",
    "data_x['Class'] = le.transform(data_x['Class'])\n",
    "data_x = ohe.transform(data_x)\n"
   ]
  },
  {
   "cell_type": "code",
   "execution_count": 266,
   "metadata": {},
   "outputs": [
    {
     "data": {
      "text/html": [
       "<div>\n",
       "<style scoped>\n",
       "    .dataframe tbody tr th:only-of-type {\n",
       "        vertical-align: middle;\n",
       "    }\n",
       "\n",
       "    .dataframe tbody tr th {\n",
       "        vertical-align: top;\n",
       "    }\n",
       "\n",
       "    .dataframe thead th {\n",
       "        text-align: right;\n",
       "    }\n",
       "</style>\n",
       "<table border=\"1\" class=\"dataframe\">\n",
       "  <thead>\n",
       "    <tr style=\"text-align: right;\">\n",
       "      <th></th>\n",
       "      <th>Gender_Female</th>\n",
       "      <th>Gender_Male</th>\n",
       "      <th>Customer Type_disloyal Customer</th>\n",
       "      <th>Customer Type_Loyal Customer</th>\n",
       "      <th>Age</th>\n",
       "      <th>Type of Travel_Business travel</th>\n",
       "      <th>Type of Travel_Personal Travel</th>\n",
       "      <th>Class</th>\n",
       "      <th>Flight Distance</th>\n",
       "      <th>Inflight wifi service</th>\n",
       "      <th>...</th>\n",
       "      <th>Seat comfort</th>\n",
       "      <th>Inflight entertainment</th>\n",
       "      <th>On-board service</th>\n",
       "      <th>Leg room service</th>\n",
       "      <th>Baggage handling</th>\n",
       "      <th>Checkin service</th>\n",
       "      <th>Inflight service</th>\n",
       "      <th>Cleanliness</th>\n",
       "      <th>Departure Delay in Minutes</th>\n",
       "      <th>Arrival Delay in Minutes</th>\n",
       "    </tr>\n",
       "  </thead>\n",
       "  <tbody>\n",
       "    <tr>\n",
       "      <th>0</th>\n",
       "      <td>1</td>\n",
       "      <td>0</td>\n",
       "      <td>0</td>\n",
       "      <td>1</td>\n",
       "      <td>52</td>\n",
       "      <td>1</td>\n",
       "      <td>0</td>\n",
       "      <td>1</td>\n",
       "      <td>160</td>\n",
       "      <td>5</td>\n",
       "      <td>...</td>\n",
       "      <td>3</td>\n",
       "      <td>5</td>\n",
       "      <td>5</td>\n",
       "      <td>5</td>\n",
       "      <td>5</td>\n",
       "      <td>2</td>\n",
       "      <td>5</td>\n",
       "      <td>5</td>\n",
       "      <td>50</td>\n",
       "      <td>44.0</td>\n",
       "    </tr>\n",
       "    <tr>\n",
       "      <th>1</th>\n",
       "      <td>1</td>\n",
       "      <td>0</td>\n",
       "      <td>0</td>\n",
       "      <td>1</td>\n",
       "      <td>36</td>\n",
       "      <td>1</td>\n",
       "      <td>0</td>\n",
       "      <td>0</td>\n",
       "      <td>2863</td>\n",
       "      <td>1</td>\n",
       "      <td>...</td>\n",
       "      <td>5</td>\n",
       "      <td>4</td>\n",
       "      <td>4</td>\n",
       "      <td>4</td>\n",
       "      <td>4</td>\n",
       "      <td>3</td>\n",
       "      <td>4</td>\n",
       "      <td>5</td>\n",
       "      <td>0</td>\n",
       "      <td>0.0</td>\n",
       "    </tr>\n",
       "    <tr>\n",
       "      <th>2</th>\n",
       "      <td>0</td>\n",
       "      <td>1</td>\n",
       "      <td>1</td>\n",
       "      <td>0</td>\n",
       "      <td>20</td>\n",
       "      <td>1</td>\n",
       "      <td>0</td>\n",
       "      <td>1</td>\n",
       "      <td>192</td>\n",
       "      <td>2</td>\n",
       "      <td>...</td>\n",
       "      <td>2</td>\n",
       "      <td>2</td>\n",
       "      <td>4</td>\n",
       "      <td>1</td>\n",
       "      <td>3</td>\n",
       "      <td>2</td>\n",
       "      <td>2</td>\n",
       "      <td>2</td>\n",
       "      <td>0</td>\n",
       "      <td>0.0</td>\n",
       "    </tr>\n",
       "    <tr>\n",
       "      <th>3</th>\n",
       "      <td>0</td>\n",
       "      <td>1</td>\n",
       "      <td>0</td>\n",
       "      <td>1</td>\n",
       "      <td>44</td>\n",
       "      <td>1</td>\n",
       "      <td>0</td>\n",
       "      <td>0</td>\n",
       "      <td>3377</td>\n",
       "      <td>0</td>\n",
       "      <td>...</td>\n",
       "      <td>4</td>\n",
       "      <td>1</td>\n",
       "      <td>1</td>\n",
       "      <td>1</td>\n",
       "      <td>1</td>\n",
       "      <td>3</td>\n",
       "      <td>1</td>\n",
       "      <td>4</td>\n",
       "      <td>0</td>\n",
       "      <td>6.0</td>\n",
       "    </tr>\n",
       "    <tr>\n",
       "      <th>4</th>\n",
       "      <td>1</td>\n",
       "      <td>0</td>\n",
       "      <td>0</td>\n",
       "      <td>1</td>\n",
       "      <td>49</td>\n",
       "      <td>1</td>\n",
       "      <td>0</td>\n",
       "      <td>1</td>\n",
       "      <td>1182</td>\n",
       "      <td>2</td>\n",
       "      <td>...</td>\n",
       "      <td>2</td>\n",
       "      <td>2</td>\n",
       "      <td>2</td>\n",
       "      <td>2</td>\n",
       "      <td>2</td>\n",
       "      <td>4</td>\n",
       "      <td>2</td>\n",
       "      <td>4</td>\n",
       "      <td>0</td>\n",
       "      <td>20.0</td>\n",
       "    </tr>\n",
       "    <tr>\n",
       "      <th>...</th>\n",
       "      <td>...</td>\n",
       "      <td>...</td>\n",
       "      <td>...</td>\n",
       "      <td>...</td>\n",
       "      <td>...</td>\n",
       "      <td>...</td>\n",
       "      <td>...</td>\n",
       "      <td>...</td>\n",
       "      <td>...</td>\n",
       "      <td>...</td>\n",
       "      <td>...</td>\n",
       "      <td>...</td>\n",
       "      <td>...</td>\n",
       "      <td>...</td>\n",
       "      <td>...</td>\n",
       "      <td>...</td>\n",
       "      <td>...</td>\n",
       "      <td>...</td>\n",
       "      <td>...</td>\n",
       "      <td>...</td>\n",
       "      <td>...</td>\n",
       "    </tr>\n",
       "    <tr>\n",
       "      <th>25971</th>\n",
       "      <td>0</td>\n",
       "      <td>1</td>\n",
       "      <td>1</td>\n",
       "      <td>0</td>\n",
       "      <td>34</td>\n",
       "      <td>1</td>\n",
       "      <td>0</td>\n",
       "      <td>0</td>\n",
       "      <td>526</td>\n",
       "      <td>3</td>\n",
       "      <td>...</td>\n",
       "      <td>4</td>\n",
       "      <td>4</td>\n",
       "      <td>3</td>\n",
       "      <td>2</td>\n",
       "      <td>4</td>\n",
       "      <td>4</td>\n",
       "      <td>5</td>\n",
       "      <td>4</td>\n",
       "      <td>0</td>\n",
       "      <td>0.0</td>\n",
       "    </tr>\n",
       "    <tr>\n",
       "      <th>25972</th>\n",
       "      <td>0</td>\n",
       "      <td>1</td>\n",
       "      <td>0</td>\n",
       "      <td>1</td>\n",
       "      <td>23</td>\n",
       "      <td>1</td>\n",
       "      <td>0</td>\n",
       "      <td>0</td>\n",
       "      <td>646</td>\n",
       "      <td>4</td>\n",
       "      <td>...</td>\n",
       "      <td>4</td>\n",
       "      <td>4</td>\n",
       "      <td>4</td>\n",
       "      <td>5</td>\n",
       "      <td>5</td>\n",
       "      <td>5</td>\n",
       "      <td>5</td>\n",
       "      <td>4</td>\n",
       "      <td>0</td>\n",
       "      <td>0.0</td>\n",
       "    </tr>\n",
       "    <tr>\n",
       "      <th>25973</th>\n",
       "      <td>1</td>\n",
       "      <td>0</td>\n",
       "      <td>0</td>\n",
       "      <td>1</td>\n",
       "      <td>17</td>\n",
       "      <td>0</td>\n",
       "      <td>1</td>\n",
       "      <td>1</td>\n",
       "      <td>828</td>\n",
       "      <td>2</td>\n",
       "      <td>...</td>\n",
       "      <td>2</td>\n",
       "      <td>2</td>\n",
       "      <td>4</td>\n",
       "      <td>3</td>\n",
       "      <td>4</td>\n",
       "      <td>5</td>\n",
       "      <td>4</td>\n",
       "      <td>2</td>\n",
       "      <td>0</td>\n",
       "      <td>0.0</td>\n",
       "    </tr>\n",
       "    <tr>\n",
       "      <th>25974</th>\n",
       "      <td>0</td>\n",
       "      <td>1</td>\n",
       "      <td>0</td>\n",
       "      <td>1</td>\n",
       "      <td>14</td>\n",
       "      <td>1</td>\n",
       "      <td>0</td>\n",
       "      <td>0</td>\n",
       "      <td>1127</td>\n",
       "      <td>3</td>\n",
       "      <td>...</td>\n",
       "      <td>4</td>\n",
       "      <td>4</td>\n",
       "      <td>3</td>\n",
       "      <td>2</td>\n",
       "      <td>5</td>\n",
       "      <td>4</td>\n",
       "      <td>5</td>\n",
       "      <td>4</td>\n",
       "      <td>0</td>\n",
       "      <td>0.0</td>\n",
       "    </tr>\n",
       "    <tr>\n",
       "      <th>25975</th>\n",
       "      <td>1</td>\n",
       "      <td>0</td>\n",
       "      <td>0</td>\n",
       "      <td>1</td>\n",
       "      <td>42</td>\n",
       "      <td>0</td>\n",
       "      <td>1</td>\n",
       "      <td>1</td>\n",
       "      <td>264</td>\n",
       "      <td>2</td>\n",
       "      <td>...</td>\n",
       "      <td>2</td>\n",
       "      <td>1</td>\n",
       "      <td>1</td>\n",
       "      <td>2</td>\n",
       "      <td>1</td>\n",
       "      <td>1</td>\n",
       "      <td>1</td>\n",
       "      <td>1</td>\n",
       "      <td>0</td>\n",
       "      <td>0.0</td>\n",
       "    </tr>\n",
       "  </tbody>\n",
       "</table>\n",
       "<p>25893 rows × 25 columns</p>\n",
       "</div>"
      ],
      "text/plain": [
       "       Gender_Female  Gender_Male  Customer Type_disloyal Customer  \\\n",
       "0                  1            0                                0   \n",
       "1                  1            0                                0   \n",
       "2                  0            1                                1   \n",
       "3                  0            1                                0   \n",
       "4                  1            0                                0   \n",
       "...              ...          ...                              ...   \n",
       "25971              0            1                                1   \n",
       "25972              0            1                                0   \n",
       "25973              1            0                                0   \n",
       "25974              0            1                                0   \n",
       "25975              1            0                                0   \n",
       "\n",
       "       Customer Type_Loyal Customer  Age  Type of Travel_Business travel  \\\n",
       "0                                 1   52                               1   \n",
       "1                                 1   36                               1   \n",
       "2                                 0   20                               1   \n",
       "3                                 1   44                               1   \n",
       "4                                 1   49                               1   \n",
       "...                             ...  ...                             ...   \n",
       "25971                             0   34                               1   \n",
       "25972                             1   23                               1   \n",
       "25973                             1   17                               0   \n",
       "25974                             1   14                               1   \n",
       "25975                             1   42                               0   \n",
       "\n",
       "       Type of Travel_Personal Travel  Class  Flight Distance  \\\n",
       "0                                   0      1              160   \n",
       "1                                   0      0             2863   \n",
       "2                                   0      1              192   \n",
       "3                                   0      0             3377   \n",
       "4                                   0      1             1182   \n",
       "...                               ...    ...              ...   \n",
       "25971                               0      0              526   \n",
       "25972                               0      0              646   \n",
       "25973                               1      1              828   \n",
       "25974                               0      0             1127   \n",
       "25975                               1      1              264   \n",
       "\n",
       "       Inflight wifi service  ...  Seat comfort  Inflight entertainment  \\\n",
       "0                          5  ...             3                       5   \n",
       "1                          1  ...             5                       4   \n",
       "2                          2  ...             2                       2   \n",
       "3                          0  ...             4                       1   \n",
       "4                          2  ...             2                       2   \n",
       "...                      ...  ...           ...                     ...   \n",
       "25971                      3  ...             4                       4   \n",
       "25972                      4  ...             4                       4   \n",
       "25973                      2  ...             2                       2   \n",
       "25974                      3  ...             4                       4   \n",
       "25975                      2  ...             2                       1   \n",
       "\n",
       "       On-board service  Leg room service  Baggage handling  Checkin service  \\\n",
       "0                     5                 5                 5                2   \n",
       "1                     4                 4                 4                3   \n",
       "2                     4                 1                 3                2   \n",
       "3                     1                 1                 1                3   \n",
       "4                     2                 2                 2                4   \n",
       "...                 ...               ...               ...              ...   \n",
       "25971                 3                 2                 4                4   \n",
       "25972                 4                 5                 5                5   \n",
       "25973                 4                 3                 4                5   \n",
       "25974                 3                 2                 5                4   \n",
       "25975                 1                 2                 1                1   \n",
       "\n",
       "       Inflight service  Cleanliness  Departure Delay in Minutes  \\\n",
       "0                     5            5                          50   \n",
       "1                     4            5                           0   \n",
       "2                     2            2                           0   \n",
       "3                     1            4                           0   \n",
       "4                     2            4                           0   \n",
       "...                 ...          ...                         ...   \n",
       "25971                 5            4                           0   \n",
       "25972                 5            4                           0   \n",
       "25973                 4            2                           0   \n",
       "25974                 5            4                           0   \n",
       "25975                 1            1                           0   \n",
       "\n",
       "       Arrival Delay in Minutes  \n",
       "0                          44.0  \n",
       "1                           0.0  \n",
       "2                           0.0  \n",
       "3                           6.0  \n",
       "4                          20.0  \n",
       "...                         ...  \n",
       "25971                       0.0  \n",
       "25972                       0.0  \n",
       "25973                       0.0  \n",
       "25974                       0.0  \n",
       "25975                       0.0  \n",
       "\n",
       "[25893 rows x 25 columns]"
      ]
     },
     "execution_count": 266,
     "metadata": {},
     "output_type": "execute_result"
    }
   ],
   "source": [
    "data_x"
   ]
  },
  {
   "cell_type": "code",
   "execution_count": 267,
   "metadata": {},
   "outputs": [],
   "source": [
    "#Fazendo a predicao de dados que os modelos ainda não tiveram contato\n",
    "teste_oficial_arvore = treino_arvore.predict(data_x)\n",
    "teste_oficial_svc = treino_svc.predict(data_x)\n",
    "teste_oficial_xgb = treino_xgb.predict(data_x)\n",
    "teste_oficial_neural = treino_neural.predict(data_x)\n",
    "\n"
   ]
  },
  {
   "cell_type": "code",
   "execution_count": 268,
   "metadata": {},
   "outputs": [
    {
     "name": "stdout",
     "output_type": "stream",
     "text": [
      "acuracia arvore = 0.9592553972116016\n",
      "acuracia svc = 0.7112733171127331\n",
      "acuracia xgb = 0.9384003398601939\n",
      "acuracia neural = 0.9395203336809176\n"
     ]
    }
   ],
   "source": [
    "#Fazendo a avaliacao das métricas dos modelos para o teste oficial\n",
    "\n",
    "acc_arvore = accuracy_score(data_y, teste_oficial_arvore)\n",
    "acc_svc = accuracy_score(data_y, teste_oficial_svc)\n",
    "acc_xgb = accuracy_score(data_y, teste_oficial_xgb)\n",
    "acc_neural = accuracy_score(data_y, teste_oficial_neural)\n",
    "\n",
    "print(f'acuracia arvore = {acc_arvore}')\n",
    "print(f'acuracia svc = {acc_svc}')\n",
    "print(f'acuracia xgb = {acc_xgb}')\n",
    "print(f'acuracia neural = {acc_neural}')\n"
   ]
  },
  {
   "cell_type": "code",
   "execution_count": 277,
   "metadata": {},
   "outputs": [
    {
     "name": "stdout",
     "output_type": "stream",
     "text": [
      "Metricas arvore\n",
      "              precision    recall  f1-score   support\n",
      "\n",
      "           0       0.95      0.97      0.96     14528\n",
      "           1       0.97      0.94      0.95     11365\n",
      "\n",
      "    accuracy                           0.96     25893\n",
      "   macro avg       0.96      0.96      0.96     25893\n",
      "weighted avg       0.96      0.96      0.96     25893\n",
      "\n",
      "------------------------------------------------------------------------\n",
      "Metricas svc\n",
      "              precision    recall  f1-score   support\n",
      "\n",
      "           0       0.67      0.95      0.79     14528\n",
      "           1       0.87      0.40      0.55     11365\n",
      "\n",
      "    accuracy                           0.71     25893\n",
      "   macro avg       0.77      0.68      0.67     25893\n",
      "weighted avg       0.76      0.71      0.68     25893\n",
      "\n",
      "------------------------------------------------------------------------\n",
      "Metricas xgb\n",
      "              precision    recall  f1-score   support\n",
      "\n",
      "           0       0.93      0.96      0.95     14528\n",
      "           1       0.94      0.91      0.93     11365\n",
      "\n",
      "    accuracy                           0.94     25893\n",
      "   macro avg       0.94      0.94      0.94     25893\n",
      "weighted avg       0.94      0.94      0.94     25893\n",
      "\n",
      "------------------------------------------------------------------------\n",
      "Metricas neural\n",
      "              precision    recall  f1-score   support\n",
      "\n",
      "           0       0.94      0.95      0.95     14528\n",
      "           1       0.94      0.93      0.93     11365\n",
      "\n",
      "    accuracy                           0.94     25893\n",
      "   macro avg       0.94      0.94      0.94     25893\n",
      "weighted avg       0.94      0.94      0.94     25893\n",
      "\n"
     ]
    }
   ],
   "source": [
    "metricas_arvore = classification_report(data_y, teste_oficial_arvore)\n",
    "metricas_svc = classification_report(data_y, teste_oficial_svc)\n",
    "metricas_xgb = classification_report(data_y, teste_oficial_xgb)\n",
    "metricas_neural = classification_report(data_y, teste_oficial_neural)\n",
    "\n",
    "print('Metricas arvore')\n",
    "print(metricas_arvore)\n",
    "print('------------------------------------------------------------------------')\n",
    "print('Metricas svc')\n",
    "print(metricas_svc)\n",
    "print('------------------------------------------------------------------------')\n",
    "print('Metricas xgb')\n",
    "print(metricas_xgb)\n",
    "print('------------------------------------------------------------------------')\n",
    "print('Metricas neural')\n",
    "print(metricas_neural)\n"
   ]
  },
  {
   "cell_type": "code",
   "execution_count": 271,
   "metadata": {},
   "outputs": [],
   "source": [
    "#Testando fazer o label encoder \n",
    "# encoder = LabelEncoder()\n",
    "# x_treino['Class'] = encoder.fit_transform(x_treino['Class'])\n",
    "\n",
    "#Fazendo o label encoder para a coluna gender\n",
    "\n",
    "# le_feature = LabelEncoder()\n",
    "# x_treino['Class'] = le_feature.fit_transform(x_treino['Class'])\n",
    "\n",
    "# # le_target = LabelEncoder()\n",
    "# # y_treino['satisfaction'] = le_target.fit_transform(y_treino['satisfaction'])\n",
    "\n",
    "# colunas_ohe = ['Gender', 'Customer Type', 'Type of Travel']\n",
    "\n",
    "# transformacao_ohe = Pipeline(steps=[\n",
    "#         ('onehot', OneHotEncoder())\n",
    "#                                     ])\n",
    "\n",
    "# transformacao_final = ColumnTransformer(transformers=[\n",
    "#     ('onehot', transformacao_ohe, colunas_ohe)\n",
    "# ])\n",
    "\n",
    "# pipeline_final = Pipeline(steps=[\n",
    "#     ('transformacao', transformacao_final),\n",
    "#     ('modelo_arvore', SVC(C=2, kernel='poly'))\n",
    "# ])\n",
    "\n",
    "# teste = pipeline_final.fit(x_treino, y_treino)\n",
    "\n",
    "# print(teste.score(x_teste, y_teste))"
   ]
  },
  {
   "cell_type": "code",
   "execution_count": null,
   "metadata": {},
   "outputs": [],
   "source": []
  },
  {
   "cell_type": "code",
   "execution_count": null,
   "metadata": {},
   "outputs": [],
   "source": []
  },
  {
   "cell_type": "code",
   "execution_count": null,
   "metadata": {},
   "outputs": [],
   "source": []
  },
  {
   "cell_type": "code",
   "execution_count": null,
   "metadata": {},
   "outputs": [],
   "source": []
  },
  {
   "cell_type": "code",
   "execution_count": null,
   "metadata": {},
   "outputs": [],
   "source": []
  }
 ],
 "metadata": {
  "kernelspec": {
   "display_name": "Python 3",
   "language": "python",
   "name": "python3"
  },
  "language_info": {
   "codemirror_mode": {
    "name": "ipython",
    "version": 3
   },
   "file_extension": ".py",
   "mimetype": "text/x-python",
   "name": "python",
   "nbconvert_exporter": "python",
   "pygments_lexer": "ipython3",
   "version": "3.10.9"
  },
  "orig_nbformat": 4
 },
 "nbformat": 4,
 "nbformat_minor": 2
}
